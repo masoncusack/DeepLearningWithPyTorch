{
 "cells": [
  {
   "cell_type": "code",
   "execution_count": 100,
   "metadata": {},
   "outputs": [
    {
     "name": "stdout",
     "output_type": "stream",
     "text": [
      "Files already downloaded and verified\n",
      "Files already downloaded and verified\n"
     ]
    }
   ],
   "source": [
    "import torch\n",
    "from torchvision import datasets\n",
    "data_path = \"../data/cifar-10/\"\n",
    "\n",
    "cifar10 = datasets.CIFAR10(data_path, train=True, download=True)\n",
    "cifar10_val = datasets.CIFAR10(data_path, train=False, download=True)"
   ]
  },
  {
   "cell_type": "code",
   "execution_count": 101,
   "metadata": {},
   "outputs": [
    {
     "data": {
      "text/plain": [
       "(<PIL.Image.Image image mode=RGB size=32x32 at 0x7F73706DFF28>,\n",
       " 1,\n",
       " 'Automobile')"
      ]
     },
     "execution_count": 101,
     "metadata": {},
     "output_type": "execute_result"
    }
   ],
   "source": [
    "# Get data example\n",
    "\n",
    "# CIFAR 10 class names in order (not provided by book)\n",
    "class_names = [\n",
    "    \"Airplane\",\n",
    "    \"Automobile\",\n",
    "    \"Bird\",\n",
    "    \"Cat\",\n",
    "    \"Deer\",\n",
    "    \"Dog\",\n",
    "    \"Frog\",\n",
    "    \"Horse\",\n",
    "    \"Ship\",\n",
    "    \"Truck\"\n",
    "]\n",
    "\n",
    "img, label = cifar10[99]\n",
    "img, label, class_names[label]"
   ]
  },
  {
   "cell_type": "code",
   "execution_count": 102,
   "metadata": {},
   "outputs": [
    {
     "data": {
      "text/plain": [
       "(torchvision.datasets.cifar.CIFAR10,\n",
       " torchvision.datasets.vision.VisionDataset,\n",
       " torch.utils.data.dataset.Dataset,\n",
       " object)"
      ]
     },
     "execution_count": 102,
     "metadata": {},
     "output_type": "execute_result"
    }
   ],
   "source": [
    "# See class hierarchy of provided datasets\n",
    "\n",
    "type(cifar10).__mro__"
   ]
  },
  {
   "cell_type": "code",
   "execution_count": 103,
   "metadata": {},
   "outputs": [
    {
     "data": {
      "text/plain": [
       "50000"
      ]
     },
     "execution_count": 103,
     "metadata": {},
     "output_type": "execute_result"
    }
   ],
   "source": [
    "len(cifar10)"
   ]
  },
  {
   "cell_type": "code",
   "execution_count": 104,
   "metadata": {},
   "outputs": [
    {
     "data": {
      "image/png": "[encoded data removed]",
      "text/plain": [
       "<Figure size 432x288 with 1 Axes>"
      ]
     },
     "metadata": {
      "needs_background": "light"
     },
     "output_type": "display_data"
    }
   ],
   "source": [
    "import matplotlib.pyplot as plt\n",
    "\n",
    "plt.imshow(img)\n",
    "plt.show()"
   ]
  },
  {
   "cell_type": "code",
   "execution_count": 105,
   "metadata": {},
   "outputs": [
    {
     "data": {
      "text/plain": [
       "['CenterCrop',\n",
       " 'ColorJitter',\n",
       " 'Compose',\n",
       " 'ConvertImageDtype',\n",
       " 'FiveCrop',\n",
       " 'Grayscale',\n",
       " 'Lambda',\n",
       " 'LinearTransformation',\n",
       " 'Normalize',\n",
       " 'PILToTensor',\n",
       " 'Pad',\n",
       " 'RandomAffine',\n",
       " 'RandomApply',\n",
       " 'RandomChoice',\n",
       " 'RandomCrop',\n",
       " 'RandomErasing',\n",
       " 'RandomGrayscale',\n",
       " 'RandomHorizontalFlip',\n",
       " 'RandomOrder',\n",
       " 'RandomPerspective',\n",
       " 'RandomResizedCrop',\n",
       " 'RandomRotation',\n",
       " 'RandomSizedCrop',\n",
       " 'RandomVerticalFlip',\n",
       " 'Resize',\n",
       " 'Scale',\n",
       " 'TenCrop',\n",
       " 'ToPILImage',\n",
       " 'ToTensor',\n",
       " '__builtins__',\n",
       " '__cached__',\n",
       " '__doc__',\n",
       " '__file__',\n",
       " '__loader__',\n",
       " '__name__',\n",
       " '__package__',\n",
       " '__path__',\n",
       " '__spec__',\n",
       " 'functional',\n",
       " 'functional_pil',\n",
       " 'functional_tensor',\n",
       " 'transforms']"
      ]
     },
     "execution_count": 105,
     "metadata": {},
     "output_type": "execute_result"
    }
   ],
   "source": [
    "\"\"\"\n",
    "Albumentations is apparently a lot more feature-rich at the moment,\n",
    "but you can use raw PyTorch transforms if you want.\n",
    "\"\"\"\n",
    "\n",
    "from torchvision import transforms\n",
    "dir(transforms)"
   ]
  },
  {
   "cell_type": "code",
   "execution_count": 106,
   "metadata": {},
   "outputs": [
    {
     "data": {
      "text/plain": [
       "(torch.Size([3, 32, 32]), torch.float32)"
      ]
     },
     "execution_count": 106,
     "metadata": {},
     "output_type": "execute_result"
    }
   ],
   "source": [
    "# ToTensor transform\n",
    "\n",
    "to_tensor = transforms.ToTensor()\n",
    "img_t = to_tensor(img)\n",
    "img_t.shape, img_t.dtype"
   ]
  },
  {
   "cell_type": "code",
   "execution_count": 107,
   "metadata": {},
   "outputs": [
    {
     "data": {
      "text/plain": [
       "(tensor(0.), tensor(1.))"
      ]
     },
     "execution_count": 107,
     "metadata": {},
     "output_type": "execute_result"
    }
   ],
   "source": [
    "# To Tensor also scales down the pixel values to 0.0 - 1.0\n",
    "\n",
    "img_t.min(), img_t.max()"
   ]
  },
  {
   "cell_type": "code",
   "execution_count": 108,
   "metadata": {},
   "outputs": [
    {
     "data": {
      "image/png": "[encoded data removed]",
      "text/plain": [
       "<Figure size 432x288 with 1 Axes>"
      ]
     },
     "metadata": {
      "needs_background": "light"
     },
     "output_type": "display_data"
    }
   ],
   "source": [
    "# But nothing has changed in the representation of the data\n",
    "\n",
    "plt.imshow(img_t.permute(1, 2, 0))\n",
    "plt.show()"
   ]
  },
  {
   "cell_type": "code",
   "execution_count": 109,
   "metadata": {},
   "outputs": [
    {
     "data": {
      "text/plain": [
       "torch.Tensor"
      ]
     },
     "execution_count": 109,
     "metadata": {},
     "output_type": "execute_result"
    }
   ],
   "source": [
    "# Transform the entire dataset accordingly using tranforms.Compose()\n",
    "\n",
    "tensor_cifar10 = datasets.CIFAR10(\n",
    "    data_path,\n",
    "    train=True,\n",
    "    download=False,\n",
    "    transform=transforms.ToTensor()\n",
    ")\n",
    "\n",
    "img_t, _ = tensor_cifar10[99]\n",
    "type(img_t)"
   ]
  },
  {
   "cell_type": "code",
   "execution_count": 110,
   "metadata": {},
   "outputs": [
    {
     "data": {
      "text/plain": [
       "torch.Size([3, 32, 32, 50000])"
      ]
     },
     "execution_count": 110,
     "metadata": {},
     "output_type": "execute_result"
    }
   ],
   "source": [
    "# Normalizing the dataset using torch.transforms\n",
    "\n",
    "# Stack all tensors from the dataset along an extra dimension\n",
    "\n",
    "imgs = torch.stack([img_t for img_t, _ in tensor_cifar10], dim=3)\n",
    "imgs.shape"
   ]
  },
  {
   "cell_type": "code",
   "execution_count": 111,
   "metadata": {},
   "outputs": [
    {
     "data": {
      "text/plain": [
       "tensor([0.4915, 0.4823, 0.4468])"
      ]
     },
     "execution_count": 111,
     "metadata": {},
     "output_type": "execute_result"
    }
   ],
   "source": [
    "# Compute mean per channel\n",
    "\n",
    "\"\"\"\n",
    "NOTE: view(3, -1) keeps the three channels and\n",
    "merges all the remaining dimensions into one, figuring\n",
    "out the appropriate size. Here our 3 × 32 × 32 image is\n",
    "transformed into a 3 × 1,024 vector, and then the mean\n",
    "is taken over the 1,024 elements of each channel\n",
    "\"\"\"\n",
    "imgs.view(3, -1).mean(dim=1)"
   ]
  },
  {
   "cell_type": "code",
   "execution_count": 112,
   "metadata": {},
   "outputs": [
    {
     "data": {
      "text/plain": [
       "tensor([0.2470, 0.2435, 0.2616])"
      ]
     },
     "execution_count": 112,
     "metadata": {},
     "output_type": "execute_result"
    }
   ],
   "source": [
    "# Compute standard deviation\n",
    "\n",
    "imgs.view(3, -1).std(dim=1)"
   ]
  },
  {
   "cell_type": "code",
   "execution_count": 113,
   "metadata": {},
   "outputs": [
    {
     "data": {
      "text/plain": [
       "Normalize(mean=(0.4915, 0.4823, 0.4468), std=(0.247, 0.2435, 0.2616))"
      ]
     },
     "execution_count": 113,
     "metadata": {},
     "output_type": "execute_result"
    }
   ],
   "source": [
    "# Initialise the Normalize transform\n",
    "\n",
    "transforms.Normalize((0.4915, 0.4823, 0.4468), (0.2470, 0.2435, 0.2616))"
   ]
  },
  {
   "cell_type": "code",
   "execution_count": 114,
   "metadata": {},
   "outputs": [],
   "source": [
    "# Add to dataset transforms\n",
    "transformed_cifar10 = datasets.CIFAR10(\n",
    "    data_path, train=True, download=False, transform=transforms.Compose([\n",
    "        transforms.ToTensor(),\n",
    "        transforms.Normalize((0.4915, 0.4823, 0.4468), (0.2470, 0.2435, 0.2616))\n",
    "    ])\n",
    ")\n",
    "\n",
    "transformed_cifar10_val = datasets.CIFAR10(\n",
    "    data_path, train=False, download=False, transform=transforms.Compose([\n",
    "        transforms.ToTensor(),\n",
    "        transforms.Normalize((0.4915, 0.4823, 0.4468), (0.2470, 0.2435, 0.2616))\n",
    "    ])\n",
    ")"
   ]
  },
  {
   "cell_type": "code",
   "execution_count": 115,
   "metadata": {},
   "outputs": [
    {
     "name": "stderr",
     "output_type": "stream",
     "text": [
      "Clipping input data to the valid range for imshow with RGB data ([0..1] for floats or [0..255] for integers).\n"
     ]
    },
    {
     "data": {
      "image/png": "[encoded data removed]",
      "text/plain": [
       "<Figure size 432x288 with 1 Axes>"
      ]
     },
     "metadata": {
      "needs_background": "light"
     },
     "output_type": "display_data"
    }
   ],
   "source": [
    "# Notice that normalization of the data changes the look of an image,\n",
    "# but it is still represented the same within the normalized dataset\n",
    "# (no representative data is lost)\n",
    "\n",
    "img_t, _ = transformed_cifar10[99]\n",
    "\n",
    "plt.imshow(img_t.permute(1, 2, 0))\n",
    "plt.show()"
   ]
  },
  {
   "cell_type": "code",
   "execution_count": 116,
   "metadata": {},
   "outputs": [],
   "source": [
    "# Binary classification task - birds vs airplanes\n",
    "\n",
    "label_map = {0: 0, 2: 1}\n",
    "class_names = ['airplane', 'bird']\n",
    "cifar2 = [\n",
    "    (img, label_map[label])\n",
    "    for img, label in transformed_cifar10\n",
    "    if label in [0, 2]\n",
    "]\n",
    "\n",
    "cifar2_val = [\n",
    "    (img, label_map[label])\n",
    "    for img, label in transformed_cifar10_val\n",
    "    if label in [0, 2]\n",
    "]"
   ]
  },
  {
   "cell_type": "code",
   "execution_count": 117,
   "metadata": {},
   "outputs": [],
   "source": [
    "# Define linear classifier model\n",
    "\n",
    "import torch.nn as nn\n",
    "\n",
    "n_out = 2\n",
    "\n",
    "model = nn.Sequential(\n",
    "    nn.Linear(\n",
    "        3072,\n",
    "        512,\n",
    "    ),\n",
    "    nn.Tanh(),\n",
    "    nn.Linear(\n",
    "        512,\n",
    "        n_out\n",
    "    )\n",
    ")"
   ]
  },
  {
   "cell_type": "code",
   "execution_count": 118,
   "metadata": {},
   "outputs": [
    {
     "data": {
      "text/plain": [
       "(tensor([0.0900, 0.2447, 0.6652]), tensor(1.))"
      ]
     },
     "execution_count": 118,
     "metadata": {},
     "output_type": "execute_result"
    }
   ],
   "source": [
    "# We can use the softmax function to represent the output of this model as a set of \n",
    "# probabilities over the classes\n",
    "\n",
    "# Hand-coded softmax\n",
    "\n",
    "def softmax(x):\n",
    "    return torch.exp(x) / torch.exp(x).sum()\n",
    "\n",
    "x = torch.tensor([1.0, 2.0, 3.0])\n",
    "\n",
    "softmax(x), softmax(x).sum()"
   ]
  },
  {
   "cell_type": "code",
   "execution_count": 119,
   "metadata": {},
   "outputs": [
    {
     "data": {
      "text/plain": [
       "tensor([[0.0900, 0.2447, 0.6652],\n",
       "        [0.0900, 0.2447, 0.6652]])"
      ]
     },
     "execution_count": 119,
     "metadata": {},
     "output_type": "execute_result"
    }
   ],
   "source": [
    "# torch.nn also provides an implementation of softmax\n",
    "\n",
    "softmax = nn.Softmax(dim=1)\n",
    "\n",
    "x = torch.tensor([[\n",
    "    1.0, 2.0, 3.0],\n",
    "    [1.0, 2.0, 3.0]\n",
    "])\n",
    "\n",
    "softmax(x)"
   ]
  },
  {
   "cell_type": "code",
   "execution_count": 120,
   "metadata": {},
   "outputs": [],
   "source": [
    "# We can use this to equip the previously defined network to predict probabilities\n",
    "\n",
    "model = nn.Sequential(\n",
    "    nn.Linear(3072, 512),\n",
    "    nn.Tanh(),\n",
    "    nn.Linear(512, 2),\n",
    "    nn.Softmax(dim=1)\n",
    ")"
   ]
  },
  {
   "cell_type": "code",
   "execution_count": 121,
   "metadata": {},
   "outputs": [],
   "source": [
    "img, _ = cifar2[0]"
   ]
  },
  {
   "cell_type": "code",
   "execution_count": 122,
   "metadata": {},
   "outputs": [
    {
     "name": "stderr",
     "output_type": "stream",
     "text": [
      "Clipping input data to the valid range for imshow with RGB data ([0..1] for floats or [0..255] for integers).\n"
     ]
    },
    {
     "data": {
      "image/png": "[encoded data removed]",
      "text/plain": [
       "<Figure size 432x288 with 1 Axes>"
      ]
     },
     "metadata": {
      "needs_background": "light"
     },
     "output_type": "display_data"
    }
   ],
   "source": [
    "plt.imshow(img.permute(1, 2, 0))\n",
    "plt.show()"
   ]
  },
  {
   "cell_type": "code",
   "execution_count": 123,
   "metadata": {},
   "outputs": [],
   "source": [
    "# Reshape into batch\n",
    "\n",
    "img_batch = img.view(-1).unsqueeze(0)"
   ]
  },
  {
   "cell_type": "code",
   "execution_count": 127,
   "metadata": {},
   "outputs": [
    {
     "data": {
      "text/plain": [
       "tensor([[0.6171, 0.3829]], grad_fn=<SoftmaxBackward>)"
      ]
     },
     "execution_count": 127,
     "metadata": {},
     "output_type": "execute_result"
    }
   ],
   "source": [
    "out = model(img_batch)\n",
    "out"
   ]
  },
  {
   "cell_type": "code",
   "execution_count": 128,
   "metadata": {},
   "outputs": [
    {
     "data": {
      "text/plain": [
       "tensor([0])"
      ]
     },
     "execution_count": 128,
     "metadata": {},
     "output_type": "execute_result"
    }
   ],
   "source": [
    "# argmax\n",
    "\n",
    "_, index = torch.max(out, dim=1)\n",
    "index"
   ]
  },
  {
   "cell_type": "code",
   "execution_count": 129,
   "metadata": {},
   "outputs": [],
   "source": [
    "\"\"\"\n",
    "Use LogSoftmax for input of probabilities to NNLLoss (suitable\n",
    "for penalising misclassifications without requiring specific/perfect values)\n",
    "\"\"\"\n",
    "\n",
    "model = nn.Sequential(\n",
    "    nn.Linear(3072, 512),\n",
    "    nn.Tanh(),\n",
    "    nn.Linear(512, 2),\n",
    "    nn.LogSoftmax(dim=1)\n",
    ")\n",
    "\n",
    "loss = nn.NLLLoss()"
   ]
  },
  {
   "cell_type": "code",
   "execution_count": 132,
   "metadata": {},
   "outputs": [
    {
     "data": {
      "text/plain": [
       "tensor(0.5951, grad_fn=<NllLossBackward>)"
      ]
     },
     "execution_count": 132,
     "metadata": {},
     "output_type": "execute_result"
    }
   ],
   "source": [
    "img, label = cifar2[0]\n",
    "\n",
    "out = model(img.view(-1).unsqueeze(0))\n",
    "\n",
    "loss(out, torch.tensor([label]))"
   ]
  },
  {
   "cell_type": "code",
   "execution_count": 135,
   "metadata": {},
   "outputs": [
    {
     "name": "stdout",
     "output_type": "stream",
     "text": [
      "Epoch: 0, Loss: 3.937595\n",
      "Epoch: 1, Loss: 4.837887\n",
      "Epoch: 2, Loss: 6.719351\n",
      "Epoch: 3, Loss: 0.530340\n",
      "Epoch: 4, Loss: 1.772052\n",
      "Epoch: 5, Loss: 9.820118\n",
      "Epoch: 6, Loss: 10.393757\n",
      "Epoch: 7, Loss: 7.213570\n",
      "Epoch: 8, Loss: 0.362014\n",
      "Epoch: 9, Loss: 3.891110\n",
      "Epoch: 10, Loss: 0.927570\n",
      "Epoch: 11, Loss: 6.235433\n",
      "Epoch: 12, Loss: 10.908489\n",
      "Epoch: 13, Loss: 8.189256\n",
      "Epoch: 14, Loss: 15.977868\n",
      "Epoch: 15, Loss: 13.795802\n",
      "Epoch: 16, Loss: 10.330498\n",
      "Epoch: 17, Loss: 6.408093\n",
      "Epoch: 18, Loss: 7.517673\n",
      "Epoch: 19, Loss: 17.074593\n",
      "Epoch: 20, Loss: 7.975914\n",
      "Epoch: 21, Loss: 10.123369\n",
      "Epoch: 22, Loss: 10.465354\n",
      "Epoch: 23, Loss: 15.724527\n",
      "Epoch: 24, Loss: 8.502681\n",
      "Epoch: 25, Loss: 8.152243\n",
      "Epoch: 26, Loss: 15.641790\n",
      "Epoch: 27, Loss: 13.589412\n",
      "Epoch: 28, Loss: 2.115486\n",
      "Epoch: 29, Loss: 6.068336\n",
      "Epoch: 30, Loss: 2.306378\n",
      "Epoch: 31, Loss: 5.903076\n",
      "Epoch: 32, Loss: 2.219535\n",
      "Epoch: 33, Loss: 10.317181\n",
      "Epoch: 34, Loss: 12.812991\n",
      "Epoch: 35, Loss: 23.716728\n",
      "Epoch: 36, Loss: 18.590942\n",
      "Epoch: 37, Loss: 10.982252\n",
      "Epoch: 38, Loss: 7.313246\n",
      "Epoch: 39, Loss: 2.377615\n",
      "Epoch: 40, Loss: 6.976547\n",
      "Epoch: 41, Loss: 10.260116\n",
      "Epoch: 42, Loss: 13.335745\n",
      "Epoch: 43, Loss: 2.155050\n",
      "Epoch: 44, Loss: 3.963333\n",
      "Epoch: 45, Loss: 0.144255\n",
      "Epoch: 46, Loss: 2.892356\n",
      "Epoch: 47, Loss: 4.812652\n",
      "Epoch: 48, Loss: 6.589650\n",
      "Epoch: 49, Loss: 2.716508\n",
      "Epoch: 50, Loss: 3.785453\n",
      "Epoch: 51, Loss: 19.892258\n",
      "Epoch: 52, Loss: 3.926864\n",
      "Epoch: 53, Loss: 0.079786\n",
      "Epoch: 54, Loss: 0.060979\n",
      "Epoch: 55, Loss: 9.448281\n",
      "Epoch: 56, Loss: 2.599766\n",
      "Epoch: 57, Loss: 0.003561\n",
      "Epoch: 58, Loss: 1.900405\n",
      "Epoch: 59, Loss: 8.235959\n",
      "Epoch: 60, Loss: 0.004799\n",
      "Epoch: 61, Loss: 14.785740\n",
      "Epoch: 62, Loss: 15.900086\n",
      "Epoch: 63, Loss: 6.202040\n",
      "Epoch: 64, Loss: 0.381847\n",
      "Epoch: 65, Loss: 8.801253\n",
      "Epoch: 66, Loss: 15.965475\n",
      "Epoch: 67, Loss: 0.291545\n",
      "Epoch: 68, Loss: 0.011249\n",
      "Epoch: 69, Loss: 10.290281\n",
      "Epoch: 70, Loss: 15.927326\n",
      "Epoch: 71, Loss: 4.587034\n",
      "Epoch: 72, Loss: 1.986899\n",
      "Epoch: 73, Loss: 18.280983\n",
      "Epoch: 74, Loss: 18.106058\n",
      "Epoch: 75, Loss: 10.392664\n",
      "Epoch: 76, Loss: 10.727082\n",
      "Epoch: 77, Loss: 4.823602\n",
      "Epoch: 78, Loss: 11.246801\n",
      "Epoch: 79, Loss: 10.019423\n",
      "Epoch: 80, Loss: 9.433107\n",
      "Epoch: 81, Loss: 5.698952\n",
      "Epoch: 82, Loss: 10.074867\n",
      "Epoch: 83, Loss: 11.672858\n",
      "Epoch: 84, Loss: 17.567829\n",
      "Epoch: 85, Loss: 11.488711\n",
      "Epoch: 86, Loss: 9.222184\n",
      "Epoch: 87, Loss: 8.729599\n",
      "Epoch: 88, Loss: 9.615673\n",
      "Epoch: 89, Loss: 6.481079\n",
      "Epoch: 90, Loss: 7.709948\n",
      "Epoch: 91, Loss: 5.339930\n",
      "Epoch: 92, Loss: 21.738338\n",
      "Epoch: 93, Loss: 8.023014\n",
      "Epoch: 94, Loss: 11.723364\n",
      "Epoch: 95, Loss: 2.659420\n",
      "Epoch: 96, Loss: 0.032937\n",
      "Epoch: 97, Loss: 7.218492\n",
      "Epoch: 98, Loss: 9.417469\n",
      "Epoch: 99, Loss: 7.479943\n"
     ]
    }
   ],
   "source": [
    "# Time to train!\n",
    "\n",
    "import torch.optim as optim\n",
    "\n",
    "learning_rate = 1e-2\n",
    "optimizer = optim.SGD(model.parameters(), lr=learning_rate)\n",
    "\n",
    "loss_fn = nn.NLLLoss()\n",
    "\n",
    "n_epochs = 100\n",
    "\n",
    "for epoch in range(n_epochs):\n",
    "    for img, label in cifar2:\n",
    "        out = model(img.view(-1).unsqueeze(0))\n",
    "        loss = loss_fn(out, torch.tensor([label]))\n",
    "        \n",
    "        optimizer.zero_grad()\n",
    "        loss.backward()\n",
    "        optimizer.step()\n",
    "    \n",
    "    # NOTE: only prints loss for the last image\n",
    "    print(\"Epoch: %d, Loss: %f\" % (epoch, float(loss)))"
   ]
  },
  {
   "cell_type": "code",
   "execution_count": 136,
   "metadata": {},
   "outputs": [
    {
     "name": "stdout",
     "output_type": "stream",
     "text": [
      "Epoch: 0, Loss: 0.309271\n",
      "Epoch: 1, Loss: 0.619634\n",
      "Epoch: 2, Loss: 0.607700\n",
      "Epoch: 3, Loss: 0.261380\n",
      "Epoch: 4, Loss: 0.398284\n",
      "Epoch: 5, Loss: 0.416269\n",
      "Epoch: 6, Loss: 0.227701\n",
      "Epoch: 7, Loss: 0.437984\n",
      "Epoch: 8, Loss: 0.490072\n",
      "Epoch: 9, Loss: 0.292526\n",
      "Epoch: 10, Loss: 0.274726\n",
      "Epoch: 11, Loss: 0.282889\n",
      "Epoch: 12, Loss: 0.529629\n",
      "Epoch: 13, Loss: 0.204691\n",
      "Epoch: 14, Loss: 0.273864\n",
      "Epoch: 15, Loss: 0.442601\n",
      "Epoch: 16, Loss: 0.194993\n",
      "Epoch: 17, Loss: 0.366086\n",
      "Epoch: 18, Loss: 0.244123\n",
      "Epoch: 19, Loss: 0.363626\n",
      "Epoch: 20, Loss: 0.416254\n",
      "Epoch: 21, Loss: 0.217713\n",
      "Epoch: 22, Loss: 0.143859\n",
      "Epoch: 23, Loss: 0.156243\n",
      "Epoch: 24, Loss: 0.265013\n",
      "Epoch: 25, Loss: 0.107251\n",
      "Epoch: 26, Loss: 0.230154\n",
      "Epoch: 27, Loss: 0.382818\n",
      "Epoch: 28, Loss: 0.285165\n",
      "Epoch: 29, Loss: 0.171841\n",
      "Epoch: 30, Loss: 0.167570\n",
      "Epoch: 31, Loss: 0.264420\n",
      "Epoch: 32, Loss: 0.153694\n",
      "Epoch: 33, Loss: 0.062301\n",
      "Epoch: 34, Loss: 0.238585\n",
      "Epoch: 35, Loss: 0.248624\n",
      "Epoch: 36, Loss: 0.067809\n",
      "Epoch: 37, Loss: 0.150447\n",
      "Epoch: 38, Loss: 0.135184\n",
      "Epoch: 39, Loss: 0.112422\n",
      "Epoch: 40, Loss: 0.320978\n",
      "Epoch: 41, Loss: 0.157443\n",
      "Epoch: 42, Loss: 0.098844\n",
      "Epoch: 43, Loss: 0.197938\n",
      "Epoch: 44, Loss: 0.108730\n",
      "Epoch: 45, Loss: 0.094217\n",
      "Epoch: 46, Loss: 0.114993\n",
      "Epoch: 47, Loss: 0.177003\n",
      "Epoch: 48, Loss: 0.070220\n",
      "Epoch: 49, Loss: 0.023955\n",
      "Epoch: 50, Loss: 0.092745\n",
      "Epoch: 51, Loss: 0.065792\n",
      "Epoch: 52, Loss: 0.053296\n",
      "Epoch: 53, Loss: 0.034572\n",
      "Epoch: 54, Loss: 0.048183\n",
      "Epoch: 55, Loss: 0.064146\n",
      "Epoch: 56, Loss: 0.020362\n",
      "Epoch: 57, Loss: 0.041429\n",
      "Epoch: 58, Loss: 0.070777\n",
      "Epoch: 59, Loss: 0.055078\n",
      "Epoch: 60, Loss: 0.037160\n",
      "Epoch: 61, Loss: 0.043169\n",
      "Epoch: 62, Loss: 0.047626\n",
      "Epoch: 63, Loss: 0.015801\n",
      "Epoch: 64, Loss: 0.063656\n",
      "Epoch: 65, Loss: 0.025868\n",
      "Epoch: 66, Loss: 0.019154\n",
      "Epoch: 67, Loss: 0.039772\n",
      "Epoch: 68, Loss: 0.048801\n",
      "Epoch: 69, Loss: 0.033369\n",
      "Epoch: 70, Loss: 0.031208\n",
      "Epoch: 71, Loss: 0.036915\n",
      "Epoch: 72, Loss: 0.046845\n",
      "Epoch: 73, Loss: 0.031639\n",
      "Epoch: 74, Loss: 0.014902\n",
      "Epoch: 75, Loss: 0.026783\n",
      "Epoch: 76, Loss: 0.020926\n",
      "Epoch: 77, Loss: 0.026480\n",
      "Epoch: 78, Loss: 0.052259\n",
      "Epoch: 79, Loss: 0.063214\n",
      "Epoch: 80, Loss: 0.021053\n",
      "Epoch: 81, Loss: 0.021248\n",
      "Epoch: 82, Loss: 0.047313\n",
      "Epoch: 83, Loss: 0.018702\n",
      "Epoch: 84, Loss: 0.013592\n",
      "Epoch: 85, Loss: 0.059206\n",
      "Epoch: 86, Loss: 0.019555\n",
      "Epoch: 87, Loss: 0.008571\n",
      "Epoch: 88, Loss: 0.012373\n",
      "Epoch: 89, Loss: 0.010426\n",
      "Epoch: 90, Loss: 0.018939\n",
      "Epoch: 91, Loss: 0.024446\n",
      "Epoch: 92, Loss: 0.020757\n",
      "Epoch: 93, Loss: 0.011048\n",
      "Epoch: 94, Loss: 0.020986\n",
      "Epoch: 95, Loss: 0.016338\n",
      "Epoch: 96, Loss: 0.017330\n",
      "Epoch: 97, Loss: 0.003062\n",
      "Epoch: 98, Loss: 0.013882\n",
      "Epoch: 99, Loss: 0.009554\n"
     ]
    }
   ],
   "source": [
    "# Adapting the training code to use a dataloader\n",
    "\n",
    "# Reinit all so we don't train on top of the same weights\n",
    "model = nn.Sequential(\n",
    "    nn.Linear(3072, 512),\n",
    "    nn.Tanh(),\n",
    "    nn.Linear(512, 2),\n",
    "    nn.LogSoftmax(dim=1)\n",
    ")\n",
    "\n",
    "optimizer = optim.SGD(model.parameters(), lr=learning_rate)\n",
    "\n",
    "loss_fn = nn.NLLLoss()\n",
    "\n",
    "train_loader = torch.utils.data.DataLoader(cifar2, batch_size=64, shuffle=True)\n",
    "\n",
    "# This can be used to iterate over in the training loop\n",
    "\n",
    "for epoch in range(n_epochs):\n",
    "    for imgs, labels in train_loader:\n",
    "        \n",
    "        batch_size = imgs.shape[0]\n",
    "        outputs = model(imgs.view(batch_size, -1))\n",
    "        loss = loss_fn(outputs, labels)\n",
    "        \n",
    "        optimizer.zero_grad()\n",
    "        loss.backward()\n",
    "        optimizer.step()\n",
    "        \n",
    "    # Due to shuffling, we now print loss for a random batch\n",
    "    print(\"Epoch: %d, Loss: %f\" % (epoch, float(loss)))"
   ]
  },
  {
   "cell_type": "code",
   "execution_count": 139,
   "metadata": {},
   "outputs": [
    {
     "name": "stdout",
     "output_type": "stream",
     "text": [
      "Accuracy: 0.825500\n"
     ]
    }
   ],
   "source": [
    "# Time to compute accuracy on the val dataset\n",
    "\n",
    "val_loader = torch.utils.data.DataLoader(\n",
    "    cifar2_val,\n",
    "    batch_size=64,\n",
    "    shuffle=False\n",
    ")\n",
    "\n",
    "correct = 0\n",
    "total = 0\n",
    "\n",
    "with torch.no_grad():\n",
    "    for imgs, labels in val_loader:\n",
    "        batch_size = imgs.shape[0]\n",
    "        outputs = model(imgs.view(batch_size, -1))\n",
    "        _, predicted = torch.max(outputs, dim=1)\n",
    "        total += labels.shape[0]\n",
    "        correct += int((predicted == labels).sum())\n",
    "        \n",
    "print(\"Accuracy: %f\" % (correct / total))"
   ]
  },
  {
   "cell_type": "code",
   "execution_count": null,
   "metadata": {},
   "outputs": [],
   "source": [
    "\"\"\"\n",
    "As the combination of LogSoftmax and NLLLoss is equivalent to cross-entropy loss,\n",
    "it's common to drop LogSoftmax and use CEL instead.\n",
    "\n",
    "However, the outputs of the model will then not be interpretable as probabilities.\n",
    "They'll need to pass through a regular Softmax layer to be so.\n",
    "\"\"\"\n",
    "\n",
    "model = nn.Sequential(\n",
    "    nn.Linear(3072, 1024),\n",
    "    nn.Tanh(),\n",
    "    nn.Linear(1024, 512),\n",
    "    nn.Tanh(),\n",
    "    nn.Linear(512, 128),\n",
    "    nn.Tanh(),\n",
    "    nn.Linear(128, 2)\n",
    ")\n",
    "\n",
    "loss_fn = nn.CrossEntropyLoss()"
   ]
  },
  {
   "cell_type": "code",
   "execution_count": 140,
   "metadata": {},
   "outputs": [
    {
     "data": {
      "text/plain": [
       "(1574402, [1572864, 512, 1024, 2])"
      ]
     },
     "execution_count": 140,
     "metadata": {},
     "output_type": "execute_result"
    }
   ],
   "source": [
    "\"\"\"\n",
    "We can use numel() to count the number of parameters in an individual tensor.\n",
    "Checking requires_grad() can allow us to isolate specifically trainable parameters\n",
    "if this is important.\n",
    "\"\"\"\n",
    "\n",
    "# Trainable params of above model\n",
    "numel_list = [p.numel() for p in model.parameters() if p.requires_grad == True]\n",
    "sum(numel_list), numel_list"
   ]
  },
  {
   "cell_type": "markdown",
   "metadata": {},
   "source": [
    "Not doing the exercises for this chapter because it's a little basic."
   ]
  }
 ],
 "metadata": {
  "kernelspec": {
   "display_name": "venvpart1",
   "language": "python",
   "name": "venvpart1"
  },
  "language_info": {
   "codemirror_mode": {
    "name": "ipython",
    "version": 3
   },
   "file_extension": ".py",
   "mimetype": "text/x-python",
   "name": "python",
   "nbconvert_exporter": "python",
   "pygments_lexer": "ipython3",
   "version": "3.6.9"
  }
 },
 "nbformat": 4,
 "nbformat_minor": 4
}
